{
 "cells": [
  {
   "cell_type": "code",
   "execution_count": 1,
   "metadata": {},
   "outputs": [],
   "source": [
    "import pandas as pd\n",
    "import numpy as np\n",
    "pd.options.display.max_rows = 999\n",
    "pd.options.display.max_columns = 999\n",
    "import os\n",
    "from datetime import datetime\n",
    "import matplotlib.pyplot as plt\n",
    "import seaborn as sns\n",
    "#from wordcloud import WordCloud\n",
    "import pandas_profiling\n",
    "import missingno as msno\n",
    "import datetime\n",
    "import re"
   ]
  },
  {
   "cell_type": "markdown",
   "metadata": {},
   "source": [
    "## This file shows how we validate hypothesis 3:\n",
    "### Time for positive/negative/anger/anxiety/sad tweets drop to half peak volume is longer in 2013 than 2012.\n",
    "\n",
    "feel free to contact me(yl3963@columbia.edu) if you have any questions\n"
   ]
  },
  {
   "cell_type": "markdown",
   "metadata": {},
   "source": [
    "## prepare dataset"
   ]
  },
  {
   "cell_type": "code",
   "execution_count": 7,
   "metadata": {},
   "outputs": [],
   "source": [
    "d2013=pd.read_csv('d2013.csv')"
   ]
  },
  {
   "cell_type": "code",
   "execution_count": 8,
   "metadata": {},
   "outputs": [
    {
     "data": {
      "text/html": [
       "<div>\n",
       "<style scoped>\n",
       "    .dataframe tbody tr th:only-of-type {\n",
       "        vertical-align: middle;\n",
       "    }\n",
       "\n",
       "    .dataframe tbody tr th {\n",
       "        vertical-align: top;\n",
       "    }\n",
       "\n",
       "    .dataframe thead th {\n",
       "        text-align: right;\n",
       "    }\n",
       "</style>\n",
       "<table border=\"1\" class=\"dataframe\">\n",
       "  <thead>\n",
       "    <tr style=\"text-align: right;\">\n",
       "      <th></th>\n",
       "      <th>Unnamed: 0</th>\n",
       "      <th>date_posted_gmt</th>\n",
       "      <th>message</th>\n",
       "      <th>date</th>\n",
       "      <th>year</th>\n",
       "      <th>month</th>\n",
       "      <th>day</th>\n",
       "      <th>week</th>\n",
       "      <th>days_from_event</th>\n",
       "    </tr>\n",
       "  </thead>\n",
       "  <tbody>\n",
       "    <tr>\n",
       "      <th>0</th>\n",
       "      <td>96948</td>\n",
       "      <td>2013-01-01 03:47:00</td>\n",
       "      <td>rip to trayvon</td>\n",
       "      <td>2013-01-01 03:47:00</td>\n",
       "      <td>2013</td>\n",
       "      <td>1</td>\n",
       "      <td>1</td>\n",
       "      <td>1</td>\n",
       "      <td>-193</td>\n",
       "    </tr>\n",
       "    <tr>\n",
       "      <th>1</th>\n",
       "      <td>96949</td>\n",
       "      <td>2013-01-01 03:59:52</td>\n",
       "      <td>reflecting on 2012: sybrina fulton speaks on h...</td>\n",
       "      <td>2013-01-01 03:59:52</td>\n",
       "      <td>2013</td>\n",
       "      <td>1</td>\n",
       "      <td>1</td>\n",
       "      <td>1</td>\n",
       "      <td>-193</td>\n",
       "    </tr>\n",
       "    <tr>\n",
       "      <th>2</th>\n",
       "      <td>96950</td>\n",
       "      <td>2013-01-01 04:40:15</td>\n",
       "      <td>bringing in 2013, we won't forget trayvon mart...</td>\n",
       "      <td>2013-01-01 04:40:15</td>\n",
       "      <td>2013</td>\n",
       "      <td>1</td>\n",
       "      <td>1</td>\n",
       "      <td>1</td>\n",
       "      <td>-193</td>\n",
       "    </tr>\n",
       "    <tr>\n",
       "      <th>3</th>\n",
       "      <td>96951</td>\n",
       "      <td>2013-01-01 04:42:07</td>\n",
       "      <td>i liked a @youtube video from @hoodnews http:/...</td>\n",
       "      <td>2013-01-01 04:42:07</td>\n",
       "      <td>2013</td>\n",
       "      <td>1</td>\n",
       "      <td>1</td>\n",
       "      <td>1</td>\n",
       "      <td>-193</td>\n",
       "    </tr>\n",
       "    <tr>\n",
       "      <th>4</th>\n",
       "      <td>96952</td>\n",
       "      <td>2013-01-01 04:45:19</td>\n",
       "      <td>got my hoodie on to cuh !ã¢â¬å@cuztatted got...</td>\n",
       "      <td>2013-01-01 04:45:19</td>\n",
       "      <td>2013</td>\n",
       "      <td>1</td>\n",
       "      <td>1</td>\n",
       "      <td>1</td>\n",
       "      <td>-193</td>\n",
       "    </tr>\n",
       "  </tbody>\n",
       "</table>\n",
       "</div>"
      ],
      "text/plain": [
       "   Unnamed: 0      date_posted_gmt  \\\n",
       "0       96948  2013-01-01 03:47:00   \n",
       "1       96949  2013-01-01 03:59:52   \n",
       "2       96950  2013-01-01 04:40:15   \n",
       "3       96951  2013-01-01 04:42:07   \n",
       "4       96952  2013-01-01 04:45:19   \n",
       "\n",
       "                                             message                 date  \\\n",
       "0                                     rip to trayvon  2013-01-01 03:47:00   \n",
       "1  reflecting on 2012: sybrina fulton speaks on h...  2013-01-01 03:59:52   \n",
       "2  bringing in 2013, we won't forget trayvon mart...  2013-01-01 04:40:15   \n",
       "3  i liked a @youtube video from @hoodnews http:/...  2013-01-01 04:42:07   \n",
       "4  got my hoodie on to cuh !ã¢â¬å@cuztatted got...  2013-01-01 04:45:19   \n",
       "\n",
       "   year  month  day  week  days_from_event  \n",
       "0  2013      1    1     1             -193  \n",
       "1  2013      1    1     1             -193  \n",
       "2  2013      1    1     1             -193  \n",
       "3  2013      1    1     1             -193  \n",
       "4  2013      1    1     1             -193  "
      ]
     },
     "execution_count": 8,
     "metadata": {},
     "output_type": "execute_result"
    }
   ],
   "source": [
    "d2013.head()"
   ]
  },
  {
   "cell_type": "markdown",
   "metadata": {},
   "source": [
    "####  function add_ymdw: add year month day  week columns for original dataframe \n"
   ]
  },
  {
   "cell_type": "code",
   "execution_count": 9,
   "metadata": {},
   "outputs": [],
   "source": [
    "def add_ymdw(df):\n",
    "    df['date']=pd.to_datetime(df['date_posted_gmt'])\n",
    "\n",
    "    df['year']=df['date'].apply(lambda x: x.year)\n",
    "\n",
    "    df['month']=df['date'].apply(lambda x: x.month)\n",
    "\n",
    "    df['day']=df['date'].apply(lambda x: x.day)\n",
    "    \n",
    "    def getweek(a,b,c):\n",
    "        return datetime.date(a,b,c).isocalendar()[1]\n",
    "    df['week'] = df.apply(lambda x: getweek(x['year'], x['month'],x['day']), axis=1)\n",
    "\n",
    "    return df"
   ]
  },
  {
   "cell_type": "code",
   "execution_count": 15,
   "metadata": {},
   "outputs": [],
   "source": [
    "d2013=add_ymdw(d2013)\n",
    "# d2013"
   ]
  },
  {
   "cell_type": "markdown",
   "metadata": {},
   "source": [
    "### split dataset according to their year\n",
    "you can get 3 dataframes finally"
   ]
  },
  {
   "cell_type": "code",
   "execution_count": 16,
   "metadata": {},
   "outputs": [],
   "source": [
    "d2013['message'] = d2013['message'].str.lower()"
   ]
  },
  {
   "cell_type": "code",
   "execution_count": 11,
   "metadata": {},
   "outputs": [],
   "source": [
    "file = open(\"LIWC Dictionary/LIWC_dic.txt\",\"r\")\n",
    "\n",
    "LIWC = file.readlines()\n",
    "LIWC_dict = {}\n",
    "for line in LIWC:\n",
    "    line = line.split(',')\n",
    "    category = line[0]\n",
    "    words = line[1:]\n",
    "    words[0] = words[0][1:]\n",
    "    words[-1] = words[-1][:-2]\n",
    "    LIWC_dict[category] = words"
   ]
  },
  {
   "cell_type": "code",
   "execution_count": 12,
   "metadata": {},
   "outputs": [],
   "source": [
    "posemo = LIWC_dict['Posemo']\n",
    "for i in range(len(posemo)):\n",
    "    if posemo[i][-1] == '*':\n",
    "        posemo[i] = r'\\b' + posemo[i][:-1]\n",
    "    else:\n",
    "        posemo[i] = r'\\b' + posemo[i] + r'\\b'\n",
    "posemo[0] = '\\(:'\n",
    "posemo[5] = ':\\)'\n",
    "reg_posemo = \"|\".join(posemo)\n",
    "reg_posemo = re.compile(reg_posemo)\n",
    "\n",
    "negemo = LIWC_dict['Negemo']\n",
    "for i in range(len(negemo)):\n",
    "    if negemo[i][-1] == '*':\n",
    "        negemo[i] = r'\\b' + negemo[i][:-1]\n",
    "    else:\n",
    "        negemo[i] = r'\\b' + negemo[i] + r'\\b'\n",
    "negemo[0] = '\\):'\n",
    "negemo[5] = ':\\('\n",
    "reg_negemo = \"|\".join(negemo)\n",
    "reg_negemo = re.compile(reg_negemo)\n",
    "\n",
    "anx = LIWC_dict['Anx']\n",
    "for i in range(len(anx)):\n",
    "    if anx[i][-1] == '*':\n",
    "        anx[i] = r'\\b' + anx[i][:-1]\n",
    "    else:\n",
    "        anx[i] = r'\\b' + anx[i] + r'\\b'\n",
    "reg_anx = \"|\".join(anx)\n",
    "reg_anx = re.compile(reg_anx)\n",
    "\n",
    "anger = LIWC_dict['Anger']\n",
    "for i in range(len(anger)):\n",
    "    if anger[i][-1] == '*':\n",
    "        anger[i] = r'\\b' + anger[i][:-1]\n",
    "    else:\n",
    "        anger[i] = r'\\b' + anger[i] + r'\\b'\n",
    "reg_anger = \"|\".join(anger)\n",
    "reg_anger = re.compile(reg_anger)\n",
    "\n",
    "sad = LIWC_dict['Sad']\n",
    "for i in range(len(sad)):\n",
    "    if sad[i][-1] == '*':\n",
    "        sad[i] = r'\\b' + sad[i][:-1]\n",
    "    else:\n",
    "        sad[i] = r'\\b' + sad[i] + r'\\b'\n",
    "reg_sad = \"|\".join(sad)\n",
    "reg_sad = re.compile(reg_sad)\n",
    "\n",
    "stress = LIWC_dict['Stress']\n",
    "for i in range(len(stress)):\n",
    "    if stress[i][-1] == '*':\n",
    "        stress[i] = r'\\b' + stress[i][:-1]\n",
    "    else:\n",
    "        stress[i] = r'\\b' + stress[i] + r'\\b'\n",
    "reg_stress = \"|\".join(stress)\n",
    "reg_stress = re.compile(reg_stress)"
   ]
  },
  {
   "cell_type": "code",
   "execution_count": 46,
   "metadata": {},
   "outputs": [],
   "source": [
    "def check_category(s,category,dic):\n",
    "    '''\n",
    "    s type: string\n",
    "    category type: list of string \n",
    "    '''\n",
    "    if category == 'Posemo':\n",
    "        if reg_posemo.search(s):\n",
    "            return category\n",
    "    elif category == 'Negemo':\n",
    "        if reg_negemo.search(s):\n",
    "            return category\n",
    "    elif category == 'Anx':\n",
    "        if reg_anx.search(s):\n",
    "            return category\n",
    "    elif category == 'Anger':\n",
    "        if reg_anger.search(s):\n",
    "            return category\n",
    "    elif category == 'Sad':\n",
    "        if reg_sad.search(s):\n",
    "            return category\n",
    "    elif category == 'Stress':\n",
    "        if reg_stress.search(s):\n",
    "            return category\n",
    "    else:\n",
    "        print(\"only valid for six category\")\n",
    "    return 'NA'"
   ]
  },
  {
   "cell_type": "code",
   "execution_count": 47,
   "metadata": {},
   "outputs": [
    {
     "name": "stdout",
     "output_type": "stream",
     "text": [
      "only valid for six category\n"
     ]
    },
    {
     "data": {
      "text/plain": [
       "'NA'"
      ]
     },
     "execution_count": 47,
     "metadata": {},
     "output_type": "execute_result"
    }
   ],
   "source": [
    "check_category('stressed','sad',LIWC_dict)"
   ]
  },
  {
   "cell_type": "markdown",
   "metadata": {},
   "source": [
    "### add_tag_col\n",
    "- df:  dataframe \n",
    "- cate: emotion category\n",
    "- dic: the dictionary stores all words belong to the category\n",
    "e.g. here tag='anx' means the message of the row contains anxiety words"
   ]
  },
  {
   "cell_type": "code",
   "execution_count": 156,
   "metadata": {},
   "outputs": [],
   "source": [
    "def add_tag_col(df,cate,dic):\n",
    "    for category in cate:\n",
    "        df[category]=df.apply(lambda x: check_category(x['message'],category,dic),axis=1)\n",
    "    return df"
   ]
  },
  {
   "cell_type": "code",
   "execution_count": null,
   "metadata": {},
   "outputs": [],
   "source": [
    "def find_half_peak_time_diff_2013(df,cate):\n",
    "    \n",
    "    def find_peak_time_2013(df,cate):\n",
    "        return int(df[cate].values.argmax())\n",
    "    \n",
    "    peaktime=find_peak_time_2013(df,cate)\n",
    "    \n",
    "    def find_peak_value_2013(df,cate):\n",
    "        return float(df.iloc[find_peak_time_2013(df,cate)][cate])\n",
    "    \n",
    "    peakval=find_peak_value_2013(df,cate)\n",
    "    half=peakval/2\n",
    "    \n",
    "    for week in range(peaktime+1,172):\n",
    "        if df.iloc[week][cate]<=half:\n",
    "            for week2 in range(week+1,172):\n",
    "                if df.iloc[week2][cate]<=half:\n",
    "                     return abs(week-peaktime)\n",
    "    return 0"
   ]
  },
  {
   "cell_type": "code",
   "execution_count": 157,
   "metadata": {},
   "outputs": [],
   "source": [
    "def form_table(df,cate):\n",
    "    df_cate_day=df_sample[(df_sample[cate]==cate) &(df_sample['days_from_event']>0)].groupby('days_from_event')['message'].count()\n",
    "    all_res=df_sample[df_sample['days_from_event']>0].groupby('days_from_event')['message'].count()\n",
    "\n",
    "    catelist=[]\n",
    "    for day,val in df_cate_day.items():\n",
    "        catelist.append((day,val))\n",
    "    #     catelist\n",
    "    alltweetlist=[]\n",
    "    for day,val in all_res.items():\n",
    "        alltweetlist.append((day,val))\n",
    "    # alltweetlist\n",
    "    final0=[]\n",
    "    for i in range(0,172):\n",
    "        for day1,catenum in catelist:\n",
    "            if day1!=i:\n",
    "                final0.append((i,0))\n",
    "                continue\n",
    "            for day2,tweetnum in alltweetlist:\n",
    "                if day1==day2:\n",
    "                    final0.append((day1,100*catenum/tweetnum))\n",
    "                    continue\n",
    "\n",
    "    final0=list(set(final0))\n",
    "    final0.sort()\n",
    "\n",
    "    final1={}\n",
    "    for a,b in final0:\n",
    "        if a not in final1:\n",
    "            final1[a]=b\n",
    "        else:\n",
    "            final1[a]+=b\n",
    "\n",
    "    cate_tb=pd.DataFrame(list(final1.items()), columns=['day', cate])\n",
    "    return cate_tb"
   ]
  },
  {
   "cell_type": "code",
   "execution_count": 196,
   "metadata": {},
   "outputs": [],
   "source": [
    "# cate='Anx'\n",
    "# emtions=[cate]\n",
    "# df=d2013.sample(n=20000)\n",
    "# df=add_tag_col(df,emotions,LIWC_dict) \n",
    "# res=form_table(df,cate)\n",
    "# plt.figure(figsize=(20,8))\n",
    "# # gca stands for 'get current axis'\n",
    "# ax = plt.gca()\n",
    "# plt.plot(res['Anx'])"
   ]
  },
  {
   "cell_type": "code",
   "execution_count": 186,
   "metadata": {},
   "outputs": [],
   "source": [
    "def bootstrap2013(df,cate,epoch):\n",
    "    \n",
    "    emotion=[]\n",
    "    cate='Sad'\n",
    "    for epoch in range(epoch):\n",
    "        df_sample=df.sample(n=30000)\n",
    "        emotions = [cate]\n",
    "        df_sample=add_tag_col(df_sample,emotions,LIWC_dict) \n",
    "        df_sample=form_table(df_sample,cate)\n",
    "        peak_diff=find_half_peak_time_diff_2013(df_sample,cate)\n",
    "        emotion.append(peak_diff)\n",
    "        if epoch%5==0:\n",
    "            print(epoch,peak_diff)\n",
    "    return emotion,sum(emotion)/len(emotion)"
   ]
  },
  {
   "cell_type": "markdown",
   "metadata": {},
   "source": [
    "## sad in 2013"
   ]
  },
  {
   "cell_type": "code",
   "execution_count": 187,
   "metadata": {},
   "outputs": [
    {
     "name": "stdout",
     "output_type": "stream",
     "text": [
      "0 1\n",
      "5 1\n",
      "10 1\n",
      "15 1\n",
      "20 1\n",
      "25 1\n"
     ]
    },
    {
     "data": {
      "text/plain": [
       "([1,\n",
       "  1,\n",
       "  1,\n",
       "  1,\n",
       "  1,\n",
       "  1,\n",
       "  1,\n",
       "  1,\n",
       "  1,\n",
       "  1,\n",
       "  1,\n",
       "  1,\n",
       "  1,\n",
       "  1,\n",
       "  1,\n",
       "  1,\n",
       "  1,\n",
       "  1,\n",
       "  1,\n",
       "  1,\n",
       "  1,\n",
       "  1,\n",
       "  1,\n",
       "  1,\n",
       "  1,\n",
       "  1,\n",
       "  1,\n",
       "  1,\n",
       "  1,\n",
       "  1],\n",
       " 1.0)"
      ]
     },
     "execution_count": 187,
     "metadata": {},
     "output_type": "execute_result"
    }
   ],
   "source": [
    "bootstrap2013(d2013,'Sad',30)"
   ]
  },
  {
   "cell_type": "markdown",
   "metadata": {},
   "source": [
    "## stress in 2013"
   ]
  },
  {
   "cell_type": "code",
   "execution_count": 188,
   "metadata": {},
   "outputs": [
    {
     "name": "stdout",
     "output_type": "stream",
     "text": [
      "0 1\n",
      "5 1\n",
      "10 1\n",
      "15 1\n",
      "20 1\n",
      "25 1\n"
     ]
    },
    {
     "data": {
      "text/plain": [
       "([1,\n",
       "  1,\n",
       "  1,\n",
       "  1,\n",
       "  1,\n",
       "  1,\n",
       "  1,\n",
       "  1,\n",
       "  1,\n",
       "  1,\n",
       "  1,\n",
       "  1,\n",
       "  1,\n",
       "  1,\n",
       "  1,\n",
       "  1,\n",
       "  1,\n",
       "  1,\n",
       "  1,\n",
       "  1,\n",
       "  1,\n",
       "  1,\n",
       "  1,\n",
       "  1,\n",
       "  1,\n",
       "  1,\n",
       "  1,\n",
       "  1,\n",
       "  1,\n",
       "  1],\n",
       " 1.0)"
      ]
     },
     "execution_count": 188,
     "metadata": {},
     "output_type": "execute_result"
    }
   ],
   "source": [
    "bootstrap2013(d2013,'Stress',30)"
   ]
  },
  {
   "cell_type": "markdown",
   "metadata": {},
   "source": [
    "### anger in 2013"
   ]
  },
  {
   "cell_type": "code",
   "execution_count": 189,
   "metadata": {},
   "outputs": [
    {
     "name": "stdout",
     "output_type": "stream",
     "text": [
      "0 1\n",
      "5 1\n",
      "10 1\n",
      "15 1\n",
      "20 1\n",
      "25 1\n"
     ]
    },
    {
     "data": {
      "text/plain": [
       "([1,\n",
       "  1,\n",
       "  1,\n",
       "  1,\n",
       "  1,\n",
       "  1,\n",
       "  1,\n",
       "  1,\n",
       "  1,\n",
       "  1,\n",
       "  1,\n",
       "  1,\n",
       "  1,\n",
       "  1,\n",
       "  1,\n",
       "  1,\n",
       "  1,\n",
       "  1,\n",
       "  1,\n",
       "  1,\n",
       "  1,\n",
       "  1,\n",
       "  1,\n",
       "  1,\n",
       "  1,\n",
       "  1,\n",
       "  1,\n",
       "  1,\n",
       "  1,\n",
       "  1],\n",
       " 1.0)"
      ]
     },
     "execution_count": 189,
     "metadata": {},
     "output_type": "execute_result"
    }
   ],
   "source": [
    "bootstrap2013(d2013,'Anger',30)"
   ]
  },
  {
   "cell_type": "markdown",
   "metadata": {},
   "source": [
    "### Anxiety in 2013"
   ]
  },
  {
   "cell_type": "code",
   "execution_count": 190,
   "metadata": {},
   "outputs": [
    {
     "name": "stdout",
     "output_type": "stream",
     "text": [
      "0 1\n",
      "5 1\n",
      "10 1\n",
      "15 1\n",
      "20 1\n",
      "25 1\n"
     ]
    },
    {
     "data": {
      "text/plain": [
       "([1,\n",
       "  1,\n",
       "  1,\n",
       "  1,\n",
       "  1,\n",
       "  1,\n",
       "  1,\n",
       "  1,\n",
       "  1,\n",
       "  1,\n",
       "  1,\n",
       "  1,\n",
       "  1,\n",
       "  1,\n",
       "  1,\n",
       "  1,\n",
       "  1,\n",
       "  1,\n",
       "  1,\n",
       "  1,\n",
       "  1,\n",
       "  1,\n",
       "  1,\n",
       "  1,\n",
       "  1,\n",
       "  1,\n",
       "  1,\n",
       "  1,\n",
       "  1,\n",
       "  1],\n",
       " 1.0)"
      ]
     },
     "execution_count": 190,
     "metadata": {},
     "output_type": "execute_result"
    }
   ],
   "source": [
    "bootstrap2013(d2013,'Anxiety',30)"
   ]
  },
  {
   "cell_type": "markdown",
   "metadata": {},
   "source": [
    "### posemo in 2013"
   ]
  },
  {
   "cell_type": "code",
   "execution_count": 191,
   "metadata": {},
   "outputs": [
    {
     "name": "stdout",
     "output_type": "stream",
     "text": [
      "0 1\n",
      "5 1\n",
      "10 1\n",
      "15 1\n",
      "20 1\n",
      "25 1\n"
     ]
    },
    {
     "data": {
      "text/plain": [
       "([1,\n",
       "  1,\n",
       "  1,\n",
       "  1,\n",
       "  1,\n",
       "  1,\n",
       "  1,\n",
       "  1,\n",
       "  1,\n",
       "  1,\n",
       "  1,\n",
       "  1,\n",
       "  1,\n",
       "  1,\n",
       "  1,\n",
       "  1,\n",
       "  1,\n",
       "  1,\n",
       "  1,\n",
       "  1,\n",
       "  1,\n",
       "  1,\n",
       "  1,\n",
       "  1,\n",
       "  1,\n",
       "  1,\n",
       "  1,\n",
       "  1,\n",
       "  1,\n",
       "  1],\n",
       " 1.0)"
      ]
     },
     "execution_count": 191,
     "metadata": {},
     "output_type": "execute_result"
    }
   ],
   "source": [
    "bootstrap2013(d2013,'Posemo',30)"
   ]
  },
  {
   "cell_type": "markdown",
   "metadata": {},
   "source": [
    "### negemo in 2013"
   ]
  },
  {
   "cell_type": "code",
   "execution_count": 192,
   "metadata": {},
   "outputs": [
    {
     "name": "stdout",
     "output_type": "stream",
     "text": [
      "0 1\n",
      "5 1\n",
      "10 1\n",
      "15 1\n",
      "20 1\n",
      "25 1\n"
     ]
    },
    {
     "data": {
      "text/plain": [
       "([1,\n",
       "  1,\n",
       "  1,\n",
       "  1,\n",
       "  1,\n",
       "  1,\n",
       "  1,\n",
       "  1,\n",
       "  1,\n",
       "  1,\n",
       "  1,\n",
       "  1,\n",
       "  1,\n",
       "  1,\n",
       "  1,\n",
       "  1,\n",
       "  1,\n",
       "  1,\n",
       "  1,\n",
       "  1,\n",
       "  1,\n",
       "  1,\n",
       "  1,\n",
       "  1,\n",
       "  1,\n",
       "  1,\n",
       "  1,\n",
       "  1,\n",
       "  1,\n",
       "  1],\n",
       " 1.0)"
      ]
     },
     "execution_count": 192,
     "metadata": {},
     "output_type": "execute_result"
    }
   ],
   "source": [
    "bootstrap2013(d2013,'Negemo',30)"
   ]
  },
  {
   "cell_type": "code",
   "execution_count": null,
   "metadata": {},
   "outputs": [],
   "source": []
  }
 ],
 "metadata": {
  "kernelspec": {
   "display_name": "Python 3",
   "language": "python",
   "name": "python3"
  },
  "language_info": {
   "codemirror_mode": {
    "name": "ipython",
    "version": 3
   },
   "file_extension": ".py",
   "mimetype": "text/x-python",
   "name": "python",
   "nbconvert_exporter": "python",
   "pygments_lexer": "ipython3",
   "version": "3.7.1"
  }
 },
 "nbformat": 4,
 "nbformat_minor": 2
}
